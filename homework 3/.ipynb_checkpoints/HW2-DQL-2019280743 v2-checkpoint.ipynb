{
  "nbformat": 4,
  "nbformat_minor": 0,
  "metadata": {
    "colab": {
      "name": "“gfootball_example_from_prebuild.ipynb”的副本",
      "provenance": [],
      "collapsed_sections": [],
      "toc_visible": true
    },
    "kernelspec": {
      "name": "python3",
      "display_name": "Python 3"
    }
  },
  "cells": [
    {
      "cell_type": "markdown",
      "metadata": {
        "id": "iCWQ9yUT3W61",
        "colab_type": "text"
      },
      "source": [
        "# Setup (should take < 100 seconds)"
      ]
    },
    {
      "cell_type": "code",
      "metadata": {
        "id": "kB9McZ4THuor",
        "colab_type": "code",
        "outputId": "f64ac7ab-7d4d-43f9-d190-84057dfbb668",
        "colab": {
          "base_uri": "https://localhost:8080/",
          "height": 904
        }
      },
      "source": [
        "!apt-get update\n",
        "!apt-get install libsdl2-gfx-dev libsdl2-ttf-dev\n",
        "\n",
        "# Make sure that the Branch in git clone and in wget call matches !!\n",
        "!git clone -b v2.0.6 https://github.com/google-research/football.git\n",
        "!mkdir -p football/third_party/gfootball_engine/lib\n",
        "\n",
        "!wget https://storage.googleapis.com/gfootball/prebuilt_gameplayfootball_v2.0.6.so -O football/third_party/gfootball_engine/lib/prebuilt_gameplayfootball.so\n",
        "!cd football && GFOOTBALL_USE_PREBUILT_SO=1 pip3 install ."
      ],
      "execution_count": 1,
      "outputs": [
        {
          "output_type": "stream",
          "text": [
            "\r0% [Working]\r            \rHit:1 https://cloud.r-project.org/bin/linux/ubuntu bionic-cran35/ InRelease\n",
            "\r0% [Connecting to archive.ubuntu.com] [Connecting to security.ubuntu.com (91.18\r0% [1 InRelease gpgv 3,626 B] [Connecting to archive.ubuntu.com] [Connecting to\r                                                                               \rIgn:2 https://developer.download.nvidia.com/compute/cuda/repos/ubuntu1804/x86_64  InRelease\n",
            "\r0% [1 InRelease gpgv 3,626 B] [Connecting to archive.ubuntu.com] [Connecting to\r                                                                               \rIgn:3 https://developer.download.nvidia.com/compute/machine-learning/repos/ubuntu1804/x86_64  InRelease\n",
            "\r0% [1 InRelease gpgv 3,626 B] [Connecting to archive.ubuntu.com (91.189.88.142)\r                                                                               \rHit:4 https://developer.download.nvidia.com/compute/cuda/repos/ubuntu1804/x86_64  Release\n",
            "\r0% [1 InRelease gpgv 3,626 B] [Connecting to archive.ubuntu.com (91.189.88.142)\r                                                                               \rHit:5 https://developer.download.nvidia.com/compute/machine-learning/repos/ubuntu1804/x86_64  Release\n",
            "\r0% [1 InRelease gpgv 3,626 B] [Connecting to archive.ubuntu.com (91.189.88.142)\r0% [Connecting to archive.ubuntu.com (91.189.88.142)] [Waiting for headers] [Wa\r0% [Release.gpg gpgv 564 B] [Connecting to archive.ubuntu.com (91.189.88.142)] \r                                                                               \rHit:6 http://security.ubuntu.com/ubuntu bionic-security InRelease\n",
            "\r0% [Release.gpg gpgv 564 B] [Connecting to archive.ubuntu.com (91.189.88.142)] \r                                                                               \rHit:7 http://ppa.launchpad.net/graphics-drivers/ppa/ubuntu bionic InRelease\n",
            "\r0% [Release.gpg gpgv 564 B] [Connecting to archive.ubuntu.com (91.189.88.142)] \r                                                                               \r0% [Waiting for headers] [Connecting to ppa.launchpad.net (91.189.95.83)]\r0% [Release.gpg gpgv 564 B] [Waiting for headers] [Connecting to ppa.launchpad.\r                                                                               \rHit:9 http://archive.ubuntu.com/ubuntu bionic InRelease\n",
            "\r0% [Release.gpg gpgv 564 B] [Waiting for headers] [Connecting to ppa.launchpad.\r                                                                               \rHit:10 http://archive.ubuntu.com/ubuntu bionic-updates InRelease\n",
            "Hit:11 http://ppa.launchpad.net/marutter/c2d4u3.5/ubuntu bionic InRelease\n",
            "Hit:13 http://archive.ubuntu.com/ubuntu bionic-backports InRelease\n",
            "Reading package lists... Done\n",
            "Reading package lists... Done\n",
            "Building dependency tree       \n",
            "Reading state information... Done\n",
            "libsdl2-gfx-dev is already the newest version (1.0.4+dfsg-1).\n",
            "libsdl2-ttf-dev is already the newest version (2.0.14+dfsg1-2).\n",
            "0 upgraded, 0 newly installed, 0 to remove and 81 not upgraded.\n",
            "fatal: destination path 'football' already exists and is not an empty directory.\n",
            "--2020-04-22 10:32:20--  https://storage.googleapis.com/gfootball/prebuilt_gameplayfootball_v2.0.6.so\n",
            "Resolving storage.googleapis.com (storage.googleapis.com)... 74.125.195.128, 2607:f8b0:400e:c09::80\n",
            "Connecting to storage.googleapis.com (storage.googleapis.com)|74.125.195.128|:443... connected.\n",
            "HTTP request sent, awaiting response... 200 OK\n",
            "Length: 45228864 (43M) [application/octet-stream]\n",
            "Saving to: ‘football/third_party/gfootball_engine/lib/prebuilt_gameplayfootball.so’\n",
            "\n",
            "football/third_part 100%[===================>]  43.13M   166MB/s    in 0.3s    \n",
            "\n",
            "2020-04-22 10:32:20 (166 MB/s) - ‘football/third_party/gfootball_engine/lib/prebuilt_gameplayfootball.so’ saved [45228864/45228864]\n",
            "\n",
            "Processing /content/football\n",
            "Requirement already satisfied: pygame==1.9.6 in /usr/local/lib/python3.6/dist-packages (from gfootball==2.0.6) (1.9.6)\n",
            "Requirement already satisfied: opencv-python in /usr/local/lib/python3.6/dist-packages (from gfootball==2.0.6) (4.1.2.30)\n",
            "Requirement already satisfied: scipy in /usr/local/lib/python3.6/dist-packages (from gfootball==2.0.6) (1.4.1)\n",
            "Requirement already satisfied: gym>=0.11.0 in /usr/local/lib/python3.6/dist-packages (from gfootball==2.0.6) (0.17.1)\n",
            "Requirement already satisfied: absl-py in /usr/local/lib/python3.6/dist-packages (from gfootball==2.0.6) (0.9.0)\n",
            "Requirement already satisfied: numpy>=1.11.3 in /usr/local/lib/python3.6/dist-packages (from opencv-python->gfootball==2.0.6) (1.18.2)\n",
            "Requirement already satisfied: pyglet<=1.5.0,>=1.4.0 in /usr/local/lib/python3.6/dist-packages (from gym>=0.11.0->gfootball==2.0.6) (1.5.0)\n",
            "Requirement already satisfied: cloudpickle<1.4.0,>=1.2.0 in /usr/local/lib/python3.6/dist-packages (from gym>=0.11.0->gfootball==2.0.6) (1.3.0)\n",
            "Requirement already satisfied: six in /usr/local/lib/python3.6/dist-packages (from gym>=0.11.0->gfootball==2.0.6) (1.12.0)\n",
            "Requirement already satisfied: future in /usr/local/lib/python3.6/dist-packages (from pyglet<=1.5.0,>=1.4.0->gym>=0.11.0->gfootball==2.0.6) (0.16.0)\n",
            "Building wheels for collected packages: gfootball\n",
            "  Building wheel for gfootball (setup.py) ... \u001b[?25l\u001b[?25hdone\n",
            "  Created wheel for gfootball: filename=gfootball-2.0.6-cp36-cp36m-linux_x86_64.whl size=38595160 sha256=91c3fed9f9e91c9bd11ee37fc3d280a40c44f2cef87710d25df15dafd87b32b0\n",
            "  Stored in directory: /tmp/pip-ephem-wheel-cache-5uxav7lt/wheels/41/ad/ae/8cf1d92b8694b10187e5daf33e8d5c248ffa5437e234ccbbee\n",
            "Successfully built gfootball\n",
            "Installing collected packages: gfootball\n",
            "  Found existing installation: gfootball 2.0.6\n",
            "    Uninstalling gfootball-2.0.6:\n",
            "      Successfully uninstalled gfootball-2.0.6\n",
            "Successfully installed gfootball-2.0.6\n"
          ],
          "name": "stdout"
        }
      ]
    },
    {
      "cell_type": "markdown",
      "metadata": {
        "id": "GGCu8kbl21Rx",
        "colab_type": "text"
      },
      "source": [
        "# Now, you can run it:"
      ]
    },
    {
      "cell_type": "code",
      "metadata": {
        "id": "XnFhIFOOTEtA",
        "colab_type": "code",
        "outputId": "2cd1c8dc-6917-4169-b21c-54fa69fb68b8",
        "colab": {
          "base_uri": "https://localhost:8080/",
          "height": 34
        }
      },
      "source": [
        "import random\n",
        "import numpy as np\n",
        "from collections import deque\n",
        "from keras.models import Sequential\n",
        "from keras.layers import Dense\n",
        "from keras.optimizers import Adam"
      ],
      "execution_count": 2,
      "outputs": [
        {
          "output_type": "stream",
          "text": [
            "Using TensorFlow backend.\n"
          ],
          "name": "stderr"
        }
      ]
    },
    {
      "cell_type": "code",
      "metadata": {
        "id": "cqgC1st5fsxZ",
        "colab_type": "code",
        "colab": {}
      },
      "source": [
        "import gfootball.env as football_env\n",
        "#import gym # for cartpole (original source)\n",
        "\n",
        "EPISODES = 1000\n",
        "\n",
        "class DQNAgent:\n",
        "    def __init__(self, state_size, action_size):\n",
        "        self.state_size = state_size\n",
        "        self.action_size = action_size\n",
        "        self.memory = deque(maxlen=2000)\n",
        "        self.gamma = 0.95    # discount rate\n",
        "        self.epsilon = 1.0  # exploration rate\n",
        "        self.epsilon_min = 0.01\n",
        "        self.epsilon_decay = 0.995\n",
        "        self.learning_rate = 0.001\n",
        "        self.model = self._build_model()\n",
        "\n",
        "    # build the MLP model\n",
        "    def _build_model(self):\n",
        "        # Neural Net for Deep-Q learning Model\n",
        "        model = Sequential()\n",
        "        model.add(Dense(24, input_dim=self.state_size, activation='relu'))\n",
        "        model.add(Dense(48, activation='relu'))\n",
        "        model.add(Dense(self.action_size, activation='linear'))\n",
        "        model.compile(loss='mse',\n",
        "                      optimizer=Adam(lr=self.learning_rate))\n",
        "        return model\n",
        "\n",
        "    # agent memorises the different policies\n",
        "    def memorize(self, state, action, reward, next_state, done):\n",
        "        self.memory.append((state, action, reward, next_state, done))\n",
        "\n",
        "    # exploration / exploitation\n",
        "    def act(self, state):\n",
        "        \n",
        "        # exploration\n",
        "        if np.random.rand() <= self.epsilon:\n",
        "            return random.randrange(self.action_size)\n",
        "        \n",
        "        # exploitation\n",
        "        act_values = self.model.predict(state)\n",
        "        return np.argmax(act_values[0])  # returns action\n",
        "\n",
        "    def replay(self, batch_size):\n",
        "        loss = []\n",
        "        x_batch, y_batch = [], []\n",
        "        minibatch = random.sample(self.memory, min(len(self.memory), batch_size))\n",
        "        for state, action, reward, next_state, done in minibatch:\n",
        "            \n",
        "            y_target = self.model.predict(state)\n",
        "            old_q_val = y_target[0][action]\n",
        "            y_target[0][action] = reward if done else reward + self.gamma * np.max(self.model.predict(next_state)[0])\n",
        "            loss.append((y_target[0][action] - old_q_val)**2)\n",
        "            x_batch.append(state[0])\n",
        "            y_batch.append(y_target[0])\n",
        "\n",
        "        \n",
        "\n",
        "        self.model.fit(np.array(x_batch), np.array(y_batch), batch_size=len(x_batch), verbose=0)\n",
        "        if self.epsilon > self.epsilon_min:\n",
        "            self.epsilon *= self.epsilon_decay\n",
        "        return np.mean(loss)\n",
        "\n",
        "\n",
        "    \n",
        "    def load(self, name):\n",
        "        self.model.load_weights(name)\n",
        "\n",
        "    def save(self, name):\n",
        "        self.model.save_weights(name)"
      ],
      "execution_count": 0,
      "outputs": []
    },
    {
      "cell_type": "code",
      "metadata": {
        "id": "TlegNSyBfuMY",
        "colab_type": "code",
        "outputId": "3200ae54-2aa8-4385-e445-51844dc07b6b",
        "colab": {
          "base_uri": "https://localhost:8080/",
          "height": 1000
        }
      },
      "source": [
        "env = football_env.create_environment(env_name='academy_empty_goal', representation='simple115', render=False)\n",
        "    \n",
        "state_size = env.observation_space.shape[0]\n",
        "action_size = env.action_space.n\n",
        "agent = DQNAgent(state_size, action_size)\n",
        "    \n",
        "done = False\n",
        "batch_size = 32\n",
        "\n",
        "# idea is: put the ball in in least number of steps.\n",
        "\n",
        "EPISODES = 200\n",
        "STEPS = 500\n",
        "\n",
        "loss_rec = []\n",
        "reward_rec = []\n",
        "steps_rec = []\n",
        "reward_e_avg =[]\n",
        "# iterate (\"play\") the game!\n",
        "for e in range(EPISODES):\n",
        "    # reset the environment at the beginning of each STEPS-step game\n",
        "    state = env.reset()\n",
        "    state = np.reshape(state, [1, state_size])\n",
        "    loss = 0\n",
        "    reward_e = []\n",
        "    for t in range(STEPS):\n",
        "      # decide action\n",
        "        action = agent.act(state)\n",
        "\n",
        "      # advance the game to next frame based on the action\n",
        "        next_state, reward, done, _ = env.step(action)\n",
        "        \n",
        "        #reward_e.append(reward)\n",
        "        if done:\n",
        "          print(\"Episode reward: {}, at time {}, episode: {}, loss: {}\".format(reward,t,e,loss))\n",
        "          #steps_rec.append(t)\n",
        "          break\n",
        "        \n",
        "        next_state = np.reshape(next_state, [1, state_size])\n",
        "        \n",
        "      # memorize the previous state,action,reward and done\n",
        "        agent.memorize(state, action, reward, next_state, done)\n",
        "\n",
        "      # make next state the new current state\n",
        "        state = next_state\n",
        "\n",
        "        if len(agent.memory) > batch_size:\n",
        "                    loss = agent.replay(batch_size)\n",
        "    #reward_e_avg.append(np.mean(reward_e))\n",
        "    steps_rec.append(t)\n",
        "    reward_rec.append(reward)\n",
        "    loss_rec.append(loss)\n",
        "\n",
        "\n",
        "   #if e%10 ==0:\n",
        "   #   reward_avg = np.mean(reward_rec[e-10:e])\n",
        "   #   loss_avg = np.mean(loss_rec[e-10:e])\n",
        "   #   print(\"avg reward over 10 steps: {}, avg loss over 10 episodes: {}\".format(reward_avg,loss_avg))\n",
        "      \n",
        "   #   break               \n",
        "\n",
        "\n"
      ],
      "execution_count": 9,
      "outputs": [
        {
          "output_type": "stream",
          "text": [
            "/usr/local/lib/python3.6/dist-packages/gym/logger.py:30: UserWarning: \u001b[33mWARN: Box bound precision lowered by casting to float32\u001b[0m\n",
            "  warnings.warn(colorize('%s: %s'%('WARN', msg % args), 'yellow'))\n"
          ],
          "name": "stderr"
        },
        {
          "output_type": "stream",
          "text": [
            "Episode reward: 0.0, at time 124, episode: 0, loss: 0.056575093043512936\n",
            "Episode reward: 0.0, at time 85, episode: 1, loss: 0.006089214072984461\n",
            "Episode reward: 0.0, at time 59, episode: 2, loss: 0.0020475419374967885\n",
            "Episode reward: 0.0, at time 206, episode: 3, loss: 0.0006086738672612668\n",
            "Episode reward: 0.0, at time 146, episode: 4, loss: 0.00042762906926185895\n",
            "Episode reward: 0.0, at time 136, episode: 5, loss: 0.0009235955356406977\n",
            "Episode reward: 0.0, at time 82, episode: 6, loss: 0.00025511690524573916\n",
            "Episode reward: 0.0, at time 88, episode: 7, loss: 0.00042736038298274437\n",
            "Episode reward: 0.0, at time 41, episode: 8, loss: 0.00031413945378716557\n",
            "Episode reward: 0.0, at time 63, episode: 9, loss: 0.0006874080053449749\n",
            "Episode reward: 1.0, at time 37, episode: 10, loss: 0.0004797581467599066\n",
            "Episode reward: 0.0, at time 236, episode: 11, loss: 0.0002035407046399318\n",
            "Episode reward: 0.0, at time 188, episode: 12, loss: 0.00019192878602405233\n",
            "Episode reward: 0.0, at time 146, episode: 13, loss: 7.103020095811097e-05\n",
            "Episode reward: 0.0, at time 126, episode: 14, loss: 0.00012155202277563254\n",
            "Episode reward: 1.0, at time 90, episode: 15, loss: 6.930682399012428e-05\n",
            "Episode reward: 0.0, at time 131, episode: 16, loss: 9.023815807732843e-05\n",
            "Episode reward: 0.0, at time 61, episode: 17, loss: 7.792092500268077e-05\n",
            "Episode reward: 1.0, at time 94, episode: 18, loss: 0.00012667999759975734\n",
            "Episode reward: 0.0, at time 80, episode: 19, loss: 0.00015741347331538896\n",
            "Episode reward: 0.0, at time 64, episode: 20, loss: 0.00010513308307871783\n",
            "Episode reward: 0.0, at time 399, episode: 21, loss: 0.0003173766763924224\n",
            "Episode reward: 0.0, at time 128, episode: 22, loss: 0.00011681379944723791\n",
            "Episode reward: 0.0, at time 73, episode: 23, loss: 6.219008006850407e-05\n",
            "Episode reward: 0.0, at time 132, episode: 24, loss: 4.6511568812752924e-05\n",
            "Episode reward: 0.0, at time 144, episode: 25, loss: 5.8863455975064274e-05\n",
            "Episode reward: 0.0, at time 148, episode: 26, loss: 3.9520449649823805e-05\n",
            "Episode reward: 0.0, at time 367, episode: 27, loss: 2.5340715489994073e-05\n",
            "Episode reward: 0.0, at time 399, episode: 28, loss: 0.0022817079750190317\n",
            "Episode reward: 0.0, at time 72, episode: 29, loss: 0.0014569505609993705\n",
            "Episode reward: 0.0, at time 74, episode: 30, loss: 0.00039922834850192324\n",
            "Episode reward: 0.0, at time 168, episode: 31, loss: 0.0003008196009081643\n",
            "Episode reward: 0.0, at time 198, episode: 32, loss: 0.0001424772228644025\n",
            "Episode reward: 0.0, at time 134, episode: 33, loss: 9.631964871512078e-05\n",
            "Episode reward: 0.0, at time 82, episode: 34, loss: 7.6096026876242e-05\n",
            "Episode reward: 0.0, at time 399, episode: 35, loss: 0.00015327242545166812\n",
            "Episode reward: 0.0, at time 105, episode: 36, loss: 4.388382869846032e-05\n",
            "Episode reward: 0.0, at time 114, episode: 37, loss: 0.00016733131227851528\n",
            "Episode reward: 0.0, at time 125, episode: 38, loss: 2.7326151379208907e-05\n",
            "Episode reward: 0.0, at time 372, episode: 39, loss: 6.263854786227319e-06\n",
            "Episode reward: 0.0, at time 128, episode: 40, loss: 1.3892774691567997e-05\n",
            "Episode reward: 0.0, at time 120, episode: 41, loss: 6.512626656443067e-06\n",
            "Episode reward: 0.0, at time 399, episode: 42, loss: 1.7981450745152387e-06\n",
            "Episode reward: 0.0, at time 134, episode: 43, loss: 2.337367519780493e-06\n",
            "Episode reward: 0.0, at time 90, episode: 44, loss: 1.1280976261795268e-06\n",
            "Episode reward: 0.0, at time 144, episode: 45, loss: 9.86804108788202e-07\n",
            "Episode reward: 0.0, at time 160, episode: 46, loss: 1.6343322661752517e-06\n",
            "Episode reward: 0.0, at time 139, episode: 47, loss: 2.806070727276561e-07\n",
            "Episode reward: 0.0, at time 107, episode: 48, loss: 3.261993623286373e-07\n",
            "Episode reward: 0.0, at time 219, episode: 49, loss: 3.7758423834648327e-07\n",
            "Episode reward: 0.0, at time 108, episode: 50, loss: 8.687897895970042e-07\n",
            "Episode reward: 0.0, at time 399, episode: 51, loss: 7.074218793726161e-05\n",
            "Episode reward: 0.0, at time 96, episode: 52, loss: 2.8068148641063884e-05\n",
            "Episode reward: 0.0, at time 130, episode: 53, loss: 1.8736744293096005e-05\n",
            "Episode reward: 0.0, at time 114, episode: 54, loss: 1.23203788436263e-05\n",
            "Episode reward: 1.0, at time 78, episode: 55, loss: 9.526403102070105e-06\n",
            "Episode reward: 1.0, at time 53, episode: 56, loss: 4.41920045579549e-06\n",
            "Episode reward: 0.0, at time 126, episode: 57, loss: 1.0216813178432968e-05\n",
            "Episode reward: 0.0, at time 123, episode: 58, loss: 3.998290425811287e-06\n",
            "Episode reward: 0.0, at time 46, episode: 59, loss: 2.2340324865017082e-06\n",
            "Episode reward: 0.0, at time 59, episode: 60, loss: 3.85185664078904e-06\n",
            "Episode reward: 0.0, at time 100, episode: 61, loss: 1.8048033385509527e-06\n",
            "Episode reward: 0.0, at time 84, episode: 62, loss: 1.522324292082232e-06\n",
            "Episode reward: 1.0, at time 44, episode: 63, loss: 1.6127283638250694e-05\n",
            "Episode reward: 0.0, at time 44, episode: 64, loss: 7.1701588960675555e-06\n",
            "Episode reward: 1.0, at time 90, episode: 65, loss: 2.9970432613329098e-06\n",
            "Episode reward: 1.0, at time 45, episode: 66, loss: 9.193211346196408e-06\n",
            "Episode reward: 1.0, at time 78, episode: 67, loss: 2.150403570912716e-06\n",
            "Episode reward: 1.0, at time 79, episode: 68, loss: 1.7691534455215778e-06\n",
            "Episode reward: 1.0, at time 50, episode: 69, loss: 3.849703457836466e-06\n",
            "Episode reward: 1.0, at time 40, episode: 70, loss: 1.0811850176594816e-05\n",
            "Episode reward: 1.0, at time 80, episode: 71, loss: 3.574648514089026e-05\n",
            "Episode reward: 1.0, at time 73, episode: 72, loss: 2.0213306649881097e-05\n",
            "Episode reward: 1.0, at time 69, episode: 73, loss: 1.7759958003557997e-05\n",
            "Episode reward: 1.0, at time 46, episode: 74, loss: 3.109260066738902e-05\n",
            "Episode reward: 0.0, at time 60, episode: 75, loss: 1.7348199964797688e-05\n",
            "Episode reward: 1.0, at time 45, episode: 76, loss: 6.211637075443071e-06\n",
            "Episode reward: 0.0, at time 288, episode: 77, loss: 2.1830720505341614e-06\n",
            "Episode reward: 0.0, at time 149, episode: 78, loss: 7.605200043489958e-06\n",
            "Episode reward: 0.0, at time 343, episode: 79, loss: 1.7346689052915969e-06\n",
            "Episode reward: 1.0, at time 84, episode: 80, loss: 1.0138214371388076e-06\n",
            "Episode reward: 1.0, at time 73, episode: 81, loss: 3.9179103363039345e-07\n",
            "Episode reward: 0.0, at time 67, episode: 82, loss: 3.8995345135004345e-07\n",
            "Episode reward: 1.0, at time 81, episode: 83, loss: 7.972909109982523e-07\n",
            "Episode reward: 0.0, at time 61, episode: 84, loss: 5.430593638600036e-07\n",
            "Episode reward: 0.0, at time 70, episode: 85, loss: 2.6675511132040973e-07\n",
            "Episode reward: 0.0, at time 175, episode: 86, loss: 0.010073149188073671\n",
            "Episode reward: 0.0, at time 399, episode: 87, loss: 1.7965784701159948e-05\n",
            "Episode reward: -1.0, at time 222, episode: 88, loss: 4.898351805667205e-06\n",
            "Episode reward: -1.0, at time 195, episode: 89, loss: 3.7406304079106757e-06\n",
            "Episode reward: 0.0, at time 399, episode: 90, loss: 2.205779917469064e-06\n",
            "Episode reward: 0.0, at time 125, episode: 91, loss: 1.13658194707939e-06\n",
            "Episode reward: 0.0, at time 49, episode: 92, loss: 3.990065387650637e-06\n",
            "Episode reward: 0.0, at time 224, episode: 93, loss: 3.0326011274955803e-06\n",
            "Episode reward: 0.0, at time 105, episode: 94, loss: 2.8283227107631624e-06\n",
            "Episode reward: 0.0, at time 399, episode: 95, loss: 2.148222354549507e-06\n",
            "Episode reward: 0.0, at time 329, episode: 96, loss: 4.607207777455999e-07\n",
            "Episode reward: 0.0, at time 82, episode: 97, loss: 6.276379479276174e-07\n",
            "Episode reward: 0.0, at time 76, episode: 98, loss: 2.6532814928056036e-07\n",
            "Episode reward: 0.0, at time 159, episode: 99, loss: 2.784203357186646e-07\n",
            "Episode reward: 0.0, at time 399, episode: 100, loss: 4.87160742307984e-07\n",
            "Episode reward: 0.0, at time 60, episode: 101, loss: 3.5844527380498204e-07\n",
            "Episode reward: 0.0, at time 86, episode: 102, loss: 4.068124016638541e-07\n",
            "Episode reward: 0.0, at time 96, episode: 103, loss: 2.3214193224982128e-07\n",
            "Episode reward: 0.0, at time 64, episode: 104, loss: 2.8502163523842924e-07\n",
            "Episode reward: 0.0, at time 399, episode: 105, loss: 6.419519559361148e-07\n",
            "Episode reward: 0.0, at time 399, episode: 106, loss: 2.4808222722536096e-07\n",
            "Episode reward: 0.0, at time 399, episode: 107, loss: 1.1171948008019232e-06\n",
            "Episode reward: 0.0, at time 50, episode: 108, loss: 1.686636320689171e-07\n",
            "Episode reward: 0.0, at time 72, episode: 109, loss: 2.3130645173831925e-07\n",
            "Episode reward: 0.0, at time 399, episode: 110, loss: 1.3161193429656574e-07\n",
            "Episode reward: 0.0, at time 226, episode: 111, loss: 5.052874455916171e-07\n",
            "Episode reward: 0.0, at time 142, episode: 112, loss: 6.704589407486504e-07\n",
            "Episode reward: 0.0, at time 82, episode: 113, loss: 1.3787331863598365e-07\n",
            "Episode reward: 0.0, at time 70, episode: 114, loss: 2.7562002574151685e-07\n",
            "Episode reward: 0.0, at time 399, episode: 115, loss: 0.019367848303211588\n",
            "Episode reward: 0.0, at time 180, episode: 116, loss: 0.001537272823388669\n",
            "Episode reward: 0.0, at time 83, episode: 117, loss: 0.00027936702145436865\n",
            "Episode reward: 0.0, at time 107, episode: 118, loss: 8.140038408416261e-05\n",
            "Episode reward: 0.0, at time 173, episode: 119, loss: 3.4315307009188944e-05\n",
            "Episode reward: 0.0, at time 117, episode: 120, loss: 1.7873589160931694e-05\n",
            "Episode reward: 0.0, at time 399, episode: 121, loss: 1.3280838040392352e-05\n",
            "Episode reward: 0.0, at time 84, episode: 122, loss: 9.099829034036667e-06\n",
            "Episode reward: 0.0, at time 133, episode: 123, loss: 7.118400870530532e-06\n",
            "Episode reward: 0.0, at time 399, episode: 124, loss: 6.085788368189165e-06\n",
            "Episode reward: 0.0, at time 92, episode: 125, loss: 4.127491582228736e-06\n",
            "Episode reward: 0.0, at time 155, episode: 126, loss: 3.2508445671334575e-06\n",
            "Episode reward: 0.0, at time 399, episode: 127, loss: 6.534860540367089e-07\n",
            "Episode reward: 0.0, at time 67, episode: 128, loss: 4.2280622723574985e-06\n",
            "Episode reward: -1.0, at time 45, episode: 129, loss: 3.5929329158404744e-07\n",
            "Episode reward: 1.0, at time 272, episode: 130, loss: 2.5679803416760674e-07\n",
            "Episode reward: 0.0, at time 399, episode: 131, loss: 2.2116044973373445e-07\n",
            "Episode reward: 0.0, at time 215, episode: 132, loss: 6.58838352353838e-07\n",
            "Episode reward: 0.0, at time 119, episode: 133, loss: 3.0378314534820647e-07\n",
            "Episode reward: 1.0, at time 355, episode: 134, loss: 2.2314406324273044e-07\n",
            "Episode reward: 0.0, at time 399, episode: 135, loss: 2.835127745473619e-07\n",
            "Episode reward: 1.0, at time 43, episode: 136, loss: 3.2298172636345264e-07\n",
            "Episode reward: 0.0, at time 86, episode: 137, loss: 1.3708001379670897e-07\n",
            "Episode reward: 1.0, at time 34, episode: 138, loss: 5.449805359235459e-07\n",
            "Episode reward: 0.0, at time 128, episode: 139, loss: 1.063960309478927e-07\n",
            "Episode reward: 0.0, at time 103, episode: 140, loss: 7.277038915428144e-07\n",
            "Episode reward: 0.0, at time 56, episode: 141, loss: 1.5918234598640077e-06\n",
            "Episode reward: 0.0, at time 69, episode: 142, loss: 1.365813932920805e-07\n",
            "Episode reward: 0.0, at time 131, episode: 143, loss: 1.206545305634844e-07\n",
            "Episode reward: 0.0, at time 144, episode: 144, loss: 1.880029027566739e-07\n",
            "Episode reward: 0.0, at time 93, episode: 145, loss: 3.2062970672054724e-07\n",
            "Episode reward: 0.0, at time 62, episode: 146, loss: 8.551324480907628e-08\n",
            "Episode reward: -1.0, at time 100, episode: 147, loss: 3.2086826896043187e-07\n",
            "Episode reward: 0.0, at time 70, episode: 148, loss: 1.8043414205523806e-07\n",
            "Episode reward: 0.0, at time 71, episode: 149, loss: 1.649858722456224e-07\n",
            "Episode reward: 0.0, at time 135, episode: 150, loss: 1.3595280936102733e-07\n",
            "Episode reward: 0.0, at time 399, episode: 151, loss: 4.02429187808587e-06\n",
            "Episode reward: 0.0, at time 62, episode: 152, loss: 3.2908390506693284e-05\n",
            "Episode reward: 0.0, at time 105, episode: 153, loss: 3.7610762602044434e-05\n",
            "Episode reward: 0.0, at time 110, episode: 154, loss: 5.1098368293591226e-05\n",
            "Episode reward: 0.0, at time 92, episode: 155, loss: 4.903005585982223e-05\n",
            "Episode reward: -1.0, at time 69, episode: 156, loss: 1.168104527271346e-05\n",
            "Episode reward: 0.0, at time 69, episode: 157, loss: 1.1916031126007857e-05\n",
            "Episode reward: 0.0, at time 399, episode: 158, loss: 1.3280314717003389e-06\n",
            "Episode reward: 0.0, at time 52, episode: 159, loss: 3.1599217356894846e-06\n",
            "Episode reward: 0.0, at time 52, episode: 160, loss: 2.153922396153562e-06\n",
            "Episode reward: 0.0, at time 80, episode: 161, loss: 1.4353664728435696e-06\n",
            "Episode reward: 0.0, at time 399, episode: 162, loss: 5.192203170032678e-07\n",
            "Episode reward: 0.0, at time 66, episode: 163, loss: 8.110855222274321e-07\n",
            "Episode reward: 0.0, at time 92, episode: 164, loss: 1.9050088891631308e-06\n",
            "Episode reward: 0.0, at time 48, episode: 165, loss: 2.4661792390506983e-06\n",
            "Episode reward: 0.0, at time 153, episode: 166, loss: 2.927037225069866e-05\n",
            "Episode reward: 0.0, at time 186, episode: 167, loss: 7.712151807906086e-06\n",
            "Episode reward: 0.0, at time 399, episode: 168, loss: 2.9700532428802995e-06\n",
            "Episode reward: 0.0, at time 399, episode: 169, loss: 4.544953666445065e-07\n",
            "Episode reward: 0.0, at time 67, episode: 170, loss: 2.2049782205240316e-07\n",
            "Episode reward: 0.0, at time 123, episode: 171, loss: 1.504219482931766e-07\n",
            "Episode reward: 0.0, at time 160, episode: 172, loss: 1.5889533133967798e-07\n",
            "Episode reward: 0.0, at time 110, episode: 173, loss: 1.935215403577788e-07\n",
            "Episode reward: -1.0, at time 42, episode: 174, loss: 1.729072246723032e-07\n",
            "Episode reward: 0.0, at time 59, episode: 175, loss: 2.1495427921406843e-07\n",
            "Episode reward: 0.0, at time 65, episode: 176, loss: 1.0936311464972254e-07\n",
            "Episode reward: 1.0, at time 149, episode: 177, loss: 1.2065041149082962e-07\n",
            "Episode reward: 0.0, at time 164, episode: 178, loss: 6.462634851240967e-08\n",
            "Episode reward: 0.0, at time 76, episode: 179, loss: 6.63053847940423e-08\n",
            "Episode reward: 0.0, at time 138, episode: 180, loss: 7.544306798854187e-08\n",
            "Episode reward: 0.0, at time 109, episode: 181, loss: 2.2773763666841075e-07\n",
            "Episode reward: 0.0, at time 31, episode: 182, loss: 4.1289202081068693e-07\n",
            "Episode reward: 0.0, at time 399, episode: 183, loss: 5.7332526344159446e-06\n",
            "Episode reward: 0.0, at time 33, episode: 184, loss: 4.181165023308189e-06\n",
            "Episode reward: 0.0, at time 70, episode: 185, loss: 6.74415846954623e-07\n",
            "Episode reward: 0.0, at time 100, episode: 186, loss: 0.002695570047586582\n",
            "Episode reward: 1.0, at time 127, episode: 187, loss: 7.289252310197641e-06\n",
            "Episode reward: 0.0, at time 161, episode: 188, loss: 1.0222098276661926e-06\n",
            "Episode reward: 0.0, at time 116, episode: 189, loss: 3.725546254088904e-07\n",
            "Episode reward: 0.0, at time 80, episode: 190, loss: 4.339482235467203e-07\n",
            "Episode reward: 0.0, at time 145, episode: 191, loss: 1.417695480611161e-07\n",
            "Episode reward: 0.0, at time 73, episode: 192, loss: 4.196340729450401e-07\n",
            "Episode reward: 0.0, at time 399, episode: 193, loss: 1.7307512832187302e-07\n",
            "Episode reward: 0.0, at time 189, episode: 194, loss: 1.3293705133282706e-07\n",
            "Episode reward: 0.0, at time 88, episode: 195, loss: 1.1740807449742843e-06\n",
            "Episode reward: 0.0, at time 124, episode: 196, loss: 0.0003381029586568829\n",
            "Episode reward: 0.0, at time 89, episode: 197, loss: 0.0004714943648169989\n",
            "Episode reward: 0.0, at time 166, episode: 198, loss: 0.0002947278173830517\n",
            "Episode reward: 0.0, at time 166, episode: 199, loss: 0.00033242748297244995\n"
          ],
          "name": "stdout"
        }
      ]
    },
    {
      "cell_type": "code",
      "metadata": {
        "id": "dvXnQgunaZfN",
        "colab_type": "code",
        "colab": {
          "base_uri": "https://localhost:8080/",
          "height": 1000
        },
        "outputId": "7e745098-90db-47ab-edd2-74268fd85747"
      },
      "source": [
        "# testing\n",
        "\n",
        "test_episodes = 10\n",
        "test_steps = 400\n",
        "\n",
        "steps_test_rec = []\n",
        "loss_test_rec = []\n",
        "reward_test_rec = []\n",
        "for e in range(test_episodes):\n",
        "    # reset the environment at the beginning of each STEPS-step game\n",
        "    state = env.reset()\n",
        "    state = np.reshape(state, [1, state_size])\n",
        "    loss = 0\n",
        "    reward_e = []\n",
        "\n",
        "    for t in range(test_steps):\n",
        "      # decide action\n",
        "        action = agent.act(state)\n",
        "\n",
        "      # advance the game to next frame based on the action\n",
        "        next_state, reward, done, _ = env.step(action)\n",
        "        \n",
        "        #reward_e.append(reward)\n",
        "        if done:\n",
        "          print(\"TEST Episode reward: {}, at time {}, episode: {}, loss: {}\".format(reward,t,e,loss))\n",
        "          #steps_rec.append(t)\n",
        "          break\n",
        "        \n",
        "        next_state = np.reshape(next_state, [1, state_size])\n",
        "        \n",
        "      # memorize the previous state,action,reward and done\n",
        "      #  agent.memorize(state, action, reward, next_state, done)\n",
        "\n",
        "      # make next state the new current state\n",
        "        state = next_state\n",
        "\n",
        "      #if len(agent.memory) > batch_size:\n",
        "      #              loss = agent.replay(batch_size)\n",
        "    #reward_e_avg.append(np.mean(reward_e))\n",
        "    steps_test_rec.append(t)\n",
        "    reward_test_rec.append(reward)\n",
        "    loss_test_rec.append(loss)"
      ],
      "execution_count": 14,
      "outputs": [
        {
          "output_type": "stream",
          "text": [
            "TEST Episode reward: 0.0, at time 73, episode: 0, loss: 0\n",
            "TEST Episode reward: 0.0, at time 74, episode: 1, loss: 0\n",
            "TEST Episode reward: 0.0, at time 73, episode: 2, loss: 0\n",
            "TEST Episode reward: 0.0, at time 74, episode: 3, loss: 0\n",
            "TEST Episode reward: 0.0, at time 75, episode: 4, loss: 0\n",
            "TEST Episode reward: 0.0, at time 75, episode: 5, loss: 0\n",
            "TEST Episode reward: 0.0, at time 73, episode: 6, loss: 0\n",
            "TEST Episode reward: 0.0, at time 72, episode: 7, loss: 0\n",
            "TEST Episode reward: 0.0, at time 73, episode: 8, loss: 0\n",
            "TEST Episode reward: 0.0, at time 71, episode: 9, loss: 0\n",
            "TEST Episode reward: 0.0, at time 125, episode: 10, loss: 0\n",
            "TEST Episode reward: 0.0, at time 73, episode: 11, loss: 0\n",
            "TEST Episode reward: 0.0, at time 73, episode: 12, loss: 0\n",
            "TEST Episode reward: 0.0, at time 73, episode: 13, loss: 0\n",
            "TEST Episode reward: 0.0, at time 73, episode: 14, loss: 0\n",
            "TEST Episode reward: 0.0, at time 69, episode: 15, loss: 0\n",
            "TEST Episode reward: 0.0, at time 71, episode: 16, loss: 0\n",
            "TEST Episode reward: 0.0, at time 89, episode: 17, loss: 0\n",
            "TEST Episode reward: 0.0, at time 73, episode: 18, loss: 0\n",
            "TEST Episode reward: 0.0, at time 73, episode: 19, loss: 0\n",
            "TEST Episode reward: 0.0, at time 66, episode: 20, loss: 0\n",
            "TEST Episode reward: 0.0, at time 58, episode: 21, loss: 0\n",
            "TEST Episode reward: 0.0, at time 73, episode: 22, loss: 0\n",
            "TEST Episode reward: 0.0, at time 74, episode: 23, loss: 0\n",
            "TEST Episode reward: 0.0, at time 73, episode: 24, loss: 0\n",
            "TEST Episode reward: 0.0, at time 75, episode: 25, loss: 0\n",
            "TEST Episode reward: 0.0, at time 91, episode: 26, loss: 0\n",
            "TEST Episode reward: 0.0, at time 73, episode: 27, loss: 0\n",
            "TEST Episode reward: 0.0, at time 78, episode: 28, loss: 0\n",
            "TEST Episode reward: 1.0, at time 103, episode: 29, loss: 0\n",
            "TEST Episode reward: 0.0, at time 73, episode: 30, loss: 0\n",
            "TEST Episode reward: 0.0, at time 72, episode: 31, loss: 0\n",
            "TEST Episode reward: 0.0, at time 74, episode: 32, loss: 0\n",
            "TEST Episode reward: 0.0, at time 72, episode: 33, loss: 0\n",
            "TEST Episode reward: 0.0, at time 103, episode: 34, loss: 0\n",
            "TEST Episode reward: 0.0, at time 74, episode: 35, loss: 0\n",
            "TEST Episode reward: 0.0, at time 146, episode: 36, loss: 0\n",
            "TEST Episode reward: 0.0, at time 133, episode: 37, loss: 0\n",
            "TEST Episode reward: 0.0, at time 73, episode: 38, loss: 0\n",
            "TEST Episode reward: 0.0, at time 94, episode: 39, loss: 0\n",
            "TEST Episode reward: 0.0, at time 199, episode: 40, loss: 0\n",
            "TEST Episode reward: 0.0, at time 63, episode: 41, loss: 0\n",
            "TEST Episode reward: 0.0, at time 75, episode: 42, loss: 0\n",
            "TEST Episode reward: 0.0, at time 61, episode: 43, loss: 0\n",
            "TEST Episode reward: 0.0, at time 74, episode: 44, loss: 0\n",
            "TEST Episode reward: 0.0, at time 73, episode: 45, loss: 0\n",
            "TEST Episode reward: 0.0, at time 102, episode: 46, loss: 0\n",
            "TEST Episode reward: 0.0, at time 75, episode: 47, loss: 0\n",
            "TEST Episode reward: 0.0, at time 73, episode: 48, loss: 0\n",
            "TEST Episode reward: 0.0, at time 73, episode: 49, loss: 0\n",
            "TEST Episode reward: 0.0, at time 66, episode: 50, loss: 0\n",
            "TEST Episode reward: 0.0, at time 73, episode: 51, loss: 0\n",
            "TEST Episode reward: 0.0, at time 73, episode: 52, loss: 0\n",
            "TEST Episode reward: 0.0, at time 73, episode: 53, loss: 0\n",
            "TEST Episode reward: 0.0, at time 73, episode: 54, loss: 0\n",
            "TEST Episode reward: 0.0, at time 74, episode: 55, loss: 0\n",
            "TEST Episode reward: 0.0, at time 78, episode: 56, loss: 0\n",
            "TEST Episode reward: 0.0, at time 91, episode: 57, loss: 0\n",
            "TEST Episode reward: 0.0, at time 101, episode: 58, loss: 0\n",
            "TEST Episode reward: 0.0, at time 73, episode: 59, loss: 0\n",
            "TEST Episode reward: 0.0, at time 74, episode: 60, loss: 0\n",
            "TEST Episode reward: 0.0, at time 74, episode: 61, loss: 0\n",
            "TEST Episode reward: 0.0, at time 74, episode: 62, loss: 0\n",
            "TEST Episode reward: 0.0, at time 74, episode: 63, loss: 0\n",
            "TEST Episode reward: 0.0, at time 72, episode: 64, loss: 0\n",
            "TEST Episode reward: 0.0, at time 73, episode: 65, loss: 0\n",
            "TEST Episode reward: 0.0, at time 74, episode: 66, loss: 0\n",
            "TEST Episode reward: 0.0, at time 73, episode: 67, loss: 0\n",
            "TEST Episode reward: 0.0, at time 74, episode: 68, loss: 0\n",
            "TEST Episode reward: 0.0, at time 73, episode: 69, loss: 0\n",
            "TEST Episode reward: 0.0, at time 73, episode: 70, loss: 0\n",
            "TEST Episode reward: 0.0, at time 176, episode: 71, loss: 0\n",
            "TEST Episode reward: 0.0, at time 74, episode: 72, loss: 0\n",
            "TEST Episode reward: 0.0, at time 74, episode: 73, loss: 0\n",
            "TEST Episode reward: 0.0, at time 72, episode: 74, loss: 0\n",
            "TEST Episode reward: 0.0, at time 74, episode: 75, loss: 0\n",
            "TEST Episode reward: 0.0, at time 98, episode: 76, loss: 0\n",
            "TEST Episode reward: 0.0, at time 74, episode: 77, loss: 0\n",
            "TEST Episode reward: 0.0, at time 73, episode: 78, loss: 0\n",
            "TEST Episode reward: 0.0, at time 280, episode: 79, loss: 0\n",
            "TEST Episode reward: 0.0, at time 59, episode: 80, loss: 0\n",
            "TEST Episode reward: 0.0, at time 73, episode: 81, loss: 0\n",
            "TEST Episode reward: 0.0, at time 96, episode: 82, loss: 0\n",
            "TEST Episode reward: 0.0, at time 74, episode: 83, loss: 0\n",
            "TEST Episode reward: 0.0, at time 73, episode: 84, loss: 0\n",
            "TEST Episode reward: 0.0, at time 73, episode: 85, loss: 0\n",
            "TEST Episode reward: 0.0, at time 75, episode: 86, loss: 0\n",
            "TEST Episode reward: 1.0, at time 77, episode: 87, loss: 0\n",
            "TEST Episode reward: 0.0, at time 73, episode: 88, loss: 0\n",
            "TEST Episode reward: 0.0, at time 61, episode: 89, loss: 0\n",
            "TEST Episode reward: 0.0, at time 74, episode: 90, loss: 0\n",
            "TEST Episode reward: 0.0, at time 74, episode: 91, loss: 0\n",
            "TEST Episode reward: 0.0, at time 241, episode: 92, loss: 0\n",
            "TEST Episode reward: 0.0, at time 74, episode: 93, loss: 0\n",
            "TEST Episode reward: 0.0, at time 74, episode: 94, loss: 0\n",
            "TEST Episode reward: 0.0, at time 79, episode: 95, loss: 0\n",
            "TEST Episode reward: 0.0, at time 73, episode: 96, loss: 0\n",
            "TEST Episode reward: 0.0, at time 92, episode: 97, loss: 0\n",
            "TEST Episode reward: 0.0, at time 77, episode: 98, loss: 0\n",
            "TEST Episode reward: 0.0, at time 73, episode: 99, loss: 0\n"
          ],
          "name": "stdout"
        }
      ]
    },
    {
      "cell_type": "code",
      "metadata": {
        "id": "krEr4tuRjkuu",
        "colab_type": "code",
        "colab": {
          "base_uri": "https://localhost:8080/",
          "height": 34
        },
        "outputId": "9db38568-a272-447d-ae9a-9279b2c2de77"
      },
      "source": [
        "sum(reward_test_rec)"
      ],
      "execution_count": 15,
      "outputs": [
        {
          "output_type": "execute_result",
          "data": {
            "text/plain": [
              "2.0"
            ]
          },
          "metadata": {
            "tags": []
          },
          "execution_count": 15
        }
      ]
    },
    {
      "cell_type": "code",
      "metadata": {
        "id": "Ja-2b-Z3Ml0H",
        "colab_type": "code",
        "colab": {}
      },
      "source": [
        "from matplotlib import pyplot as plt"
      ],
      "execution_count": 0,
      "outputs": []
    },
    {
      "cell_type": "code",
      "metadata": {
        "id": "HuEW1uuaazSf",
        "colab_type": "code",
        "outputId": "d25d35ce-ae19-45f6-a661-ff8cca1f6f91",
        "colab": {
          "base_uri": "https://localhost:8080/",
          "height": 282
        }
      },
      "source": [
        "plt.plot(range(len(loss_rec)),loss_rec)"
      ],
      "execution_count": 11,
      "outputs": [
        {
          "output_type": "execute_result",
          "data": {
            "text/plain": [
              "[<matplotlib.lines.Line2D at 0x7fb2c39dd898>]"
            ]
          },
          "metadata": {
            "tags": []
          },
          "execution_count": 11
        },
        {
          "output_type": "display_data",
          "data": {
            "image/png": "[encoded data removed]",
            "text/plain": [
              "<Figure size 432x288 with 1 Axes>"
            ]
          },
          "metadata": {
            "tags": [],
            "needs_background": "light"
          }
        }
      ]
    },
    {
      "cell_type": "code",
      "metadata": {
        "id": "onV-Nqq_MP6c",
        "colab_type": "code",
        "colab": {
          "base_uri": "https://localhost:8080/",
          "height": 282
        },
        "outputId": "4d5331ce-3505-4439-fede-b0310cf4e044"
      },
      "source": [
        "plt.plot(range(len(reward_rec)),reward_rec,\".\")"
      ],
      "execution_count": 12,
      "outputs": [
        {
          "output_type": "execute_result",
          "data": {
            "text/plain": [
              "[<matplotlib.lines.Line2D at 0x7fb2c34fd588>]"
            ]
          },
          "metadata": {
            "tags": []
          },
          "execution_count": 12
        },
        {
          "output_type": "display_data",
          "data": {
            "image/png": "[encoded data removed]",
            "text/plain": [
              "<Figure size 432x288 with 1 Axes>"
            ]
          },
          "metadata": {
            "tags": [],
            "needs_background": "light"
          }
        }
      ]
    },
    {
      "cell_type": "code",
      "metadata": {
        "id": "2hnBlQ6KaO2K",
        "colab_type": "code",
        "colab": {}
      },
      "source": [
        ""
      ],
      "execution_count": 0,
      "outputs": []
    },
    {
      "cell_type": "code",
      "metadata": {
        "id": "lJG1GFnCMZTM",
        "colab_type": "code",
        "colab": {
          "base_uri": "https://localhost:8080/",
          "height": 282
        },
        "outputId": "f1ad9c87-57f6-4018-c7e7-1d528ca3a612"
      },
      "source": [
        "plt.plot(range(len(steps_rec)),steps_rec)"
      ],
      "execution_count": 13,
      "outputs": [
        {
          "output_type": "execute_result",
          "data": {
            "text/plain": [
              "[<matplotlib.lines.Line2D at 0x7fb2c3470240>]"
            ]
          },
          "metadata": {
            "tags": []
          },
          "execution_count": 13
        },
        {
          "output_type": "display_data",
          "data": {
            "image/png": "[encoded data removed]",
            "text/plain": [
              "<Figure size 432x288 with 1 Axes>"
            ]
          },
          "metadata": {
            "tags": [],
            "needs_background": "light"
          }
        }
      ]
    },
    {
      "cell_type": "code",
      "metadata": {
        "id": "NJBj1pBioF2m",
        "colab_type": "code",
        "outputId": "7ea1036a-f5c3-43b6-be94-ca73127bd61a",
        "colab": {
          "base_uri": "https://localhost:8080/",
          "height": 130
        }
      },
      "source": [
        "\"\"\"\n",
        "暂时不使用！！\n",
        "\n",
        "\"\"\"\n",
        "            # update Q value\n",
        "    def replay(self, batch_size):\n",
        "        \n",
        "        # take batch from memory\n",
        "        minibatch = random.sample(self.memory, batch_size)\n",
        "        \n",
        "        # for each memory\n",
        "        for state, action, reward, next_state, done in minibatch:\n",
        "            \n",
        "            # if DONE, make our target reward\n",
        "            target = reward\n",
        "            \n",
        "            if not done:\n",
        "                # future DISCOUNTED reward\n",
        "                target = (reward + self.gamma * np.amax(self.model.predict(next_state)))\n",
        "            \n",
        "            # make the agent map the current state to future discounted reward (target_f - future discounted reward)\n",
        "            target_f = self.model.predict(state)\n",
        "            target_f_l = np.max(target_f)\n",
        "            loss = (target - target_f_l)**2\n",
        "            #target_f[0][action] = target\n",
        "\n",
        "            #loss = (target - target_f[state][action])**2\n",
        "            \n",
        "            # train the MLP model\n",
        "            # fit(input,labels): input state, predict targe_f (which itself is an estimate)\n",
        "            self.model.fit(state, target_f, epochs=1, verbose=0)\n",
        "            \n",
        "        # decay the epsilon value down to the min value\n",
        "        if self.epsilon > self.epsilon_min:\n",
        "            self.epsilon *= self.epsilon_decay\n",
        "        return loss"
      ],
      "execution_count": 0,
      "outputs": [
        {
          "output_type": "error",
          "ename": "IndentationError",
          "evalue": "ignored",
          "traceback": [
            "\u001b[0;36m  File \u001b[0;32m\"<ipython-input-49-2be22b76a4a2>\"\u001b[0;36m, line \u001b[0;32m6\u001b[0m\n\u001b[0;31m    def replay(self, batch_size):\u001b[0m\n\u001b[0m    ^\u001b[0m\n\u001b[0;31mIndentationError\u001b[0m\u001b[0;31m:\u001b[0m unexpected indent\n"
          ]
        }
      ]
    },
    {
      "cell_type": "code",
      "metadata": {
        "id": "yfpvanMASn_X",
        "colab_type": "code",
        "colab": {}
      },
      "source": [
        ""
      ],
      "execution_count": 0,
      "outputs": []
    }
  ]
}